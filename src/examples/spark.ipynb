{
 "cells": [
  {
   "cell_type": "code",
   "execution_count": 1,
   "metadata": {},
   "outputs": [
    {
     "name": "stderr",
     "output_type": "stream",
     "text": [
      "Setting default log level to \"WARN\".\n",
      "To adjust logging level use sc.setLogLevel(newLevel). For SparkR, use setLogLevel(newLevel).\n",
      "24/03/18 10:02:39 WARN NativeCodeLoader: Unable to load native-hadoop library for your platform... using builtin-java classes where applicable\n"
     ]
    }
   ],
   "source": [
    "import os\n",
    "import sys\n",
    "import subprocess\n",
    "import pandas as pd\n",
    "\n",
    "# Create the fundamental spark session\n",
    "from pyspark.sql import SparkSession\n",
    "spark = SparkSession.builder.getOrCreate()\n",
    "\n",
    "# Load env\n",
    "from dotenv import load_dotenv  # noqa: E402\n",
    "load_dotenv()\n",
    "sys.path.append(os.environ['PROJECT_ROOT'] + '/src')"
   ]
  },
  {
   "cell_type": "code",
   "execution_count": 2,
   "metadata": {},
   "outputs": [
    {
     "name": "stderr",
     "output_type": "stream",
     "text": [
      "/Library/Frameworks/Python.framework/Versions/3.12/lib/python3.12/site-packages/pyspark/python/lib/pyspark.zip/pyspark/daemon.py:154: DeprecationWarning: This process (pid=9975) is multi-threaded, use of fork() may lead to deadlocks in the child.\n",
      "                                                                                \r"
     ]
    },
    {
     "name": "stdout",
     "output_type": "stream",
     "text": [
      "+-----+------+---+---+\n",
      "|color| fruit| v1| v2|\n",
      "+-----+------+---+---+\n",
      "|  red|banana|  1| 10|\n",
      "| blue|banana|  2| 20|\n",
      "|  red|carrot|  3| 30|\n",
      "| blue| grape|  4| 40|\n",
      "|  red|carrot|  5| 50|\n",
      "|black|carrot|  6| 60|\n",
      "|  red|banana|  7| 70|\n",
      "|  red| grape|  8| 80|\n",
      "+-----+------+---+---+\n",
      "\n",
      "root\n",
      " |-- color: string (nullable = true)\n",
      " |-- fruit: string (nullable = true)\n",
      " |-- v1: long (nullable = true)\n",
      " |-- v2: long (nullable = true)\n",
      "\n"
     ]
    }
   ],
   "source": [
    "# Create a Spark DF from a Pandas DF\n",
    "p_df = pd.DataFrame([\n",
    "\t['red', 'banana', 1, 10], ['blue', 'banana', 2, 20], ['red', 'carrot', 3, 30],\n",
    "    ['blue', 'grape', 4, 40], ['red', 'carrot', 5, 50], ['black', 'carrot', 6, 60],\n",
    "    ['red', 'banana', 7, 70], ['red', 'grape', 8, 80]\n",
    "], columns=['color', 'fruit', 'v1', 'v2'])\n",
    "s_df = spark.createDataFrame(p_df)\n",
    "s_df.show()\n",
    "s_df.printSchema()  # Note: ints becomes long.  Compare this with next load result."
   ]
  },
  {
   "cell_type": "code",
   "execution_count": 3,
   "metadata": {},
   "outputs": [
    {
     "name": "stdout",
     "output_type": "stream",
     "text": [
      "+-----+------+---+---+\n",
      "|color| fruit| v1| v2|\n",
      "+-----+------+---+---+\n",
      "|  red|banana|  1| 10|\n",
      "| blue|banana|  2| 20|\n",
      "|  red|carrot|  3| 30|\n",
      "| blue| grape|  4| 40|\n",
      "|  red|carrot|  5| 50|\n",
      "|black|carrot|  6| 60|\n",
      "|  red|banana|  7| 70|\n",
      "|  red| grape|  8| 80|\n",
      "+-----+------+---+---+\n",
      "\n",
      "root\n",
      " |-- color: string (nullable = true)\n",
      " |-- fruit: string (nullable = true)\n",
      " |-- v1: string (nullable = true)\n",
      " |-- v2: string (nullable = true)\n",
      "\n"
     ]
    }
   ],
   "source": [
    "# Alternatively, read into a spark df from data\n",
    "data_dir = f'{os.environ['PROJECT_ROOT']}/data'\n",
    "subprocess.run(f'mkdir {data_dir}'.split())\n",
    "p_df.to_csv(f'{data_dir}/spark_data.csv', index=False, header=True)\n",
    "\n",
    "s_df = spark.read.csv(f'{data_dir}/spark_data.csv', header=True)\n",
    "s_df.show()\n",
    "s_df.printSchema()  # Note that the int columns are loaded as str despite being saved as int"
   ]
  },
  {
   "cell_type": "code",
   "execution_count": 4,
   "metadata": {},
   "outputs": [
    {
     "name": "stdout",
     "output_type": "stream",
     "text": [
      "+-----+------+---+---+\n",
      "|color| fruit| v1| v2|\n",
      "+-----+------+---+---+\n",
      "|  red|banana|  1| 10|\n",
      "| blue|banana|  2| 20|\n",
      "|  red|carrot|  3| 30|\n",
      "| blue| grape|  4| 40|\n",
      "|  red|carrot|  5| 50|\n",
      "|black|carrot|  6| 60|\n",
      "|  red|banana|  7| 70|\n",
      "|  red| grape|  8| 80|\n",
      "+-----+------+---+---+\n",
      "\n",
      "root\n",
      " |-- color: string (nullable = true)\n",
      " |-- fruit: string (nullable = true)\n",
      " |-- v1: string (nullable = true)\n",
      " |-- v2: string (nullable = true)\n",
      "\n"
     ]
    }
   ],
   "source": [
    "# Alternatively, load can be used in the generic case\n",
    "s_df = spark.read.load(f'{data_dir}/spark_data.csv', format='csv', header=True)\n",
    "s_df.show()\n",
    "s_df.printSchema()"
   ]
  },
  {
   "cell_type": "code",
   "execution_count": 5,
   "metadata": {},
   "outputs": [
    {
     "name": "stdout",
     "output_type": "stream",
     "text": [
      "+-----+---+\n",
      "|color| v2|\n",
      "+-----+---+\n",
      "|  red| 10|\n",
      "| blue| 20|\n",
      "|  red| 30|\n",
      "| blue| 40|\n",
      "|  red| 50|\n",
      "|black| 60|\n",
      "|  red| 70|\n",
      "|  red| 80|\n",
      "+-----+---+\n",
      "\n"
     ]
    }
   ],
   "source": [
    "# Select particular column/columns\n",
    "s_df.select(s_df.color, s_df.v2).show()"
   ]
  },
  {
   "cell_type": "code",
   "execution_count": 6,
   "metadata": {},
   "outputs": [
    {
     "name": "stdout",
     "output_type": "stream",
     "text": [
      "+-----+------+---+---+----+\n",
      "|color| fruit| v1| v2| sum|\n",
      "+-----+------+---+---+----+\n",
      "|  red|banana|  1| 10|11.0|\n",
      "| blue|banana|  2| 20|22.0|\n",
      "|  red|carrot|  3| 30|33.0|\n",
      "| blue| grape|  4| 40|44.0|\n",
      "|  red|carrot|  5| 50|55.0|\n",
      "|black|carrot|  6| 60|66.0|\n",
      "|  red|banana|  7| 70|77.0|\n",
      "|  red| grape|  8| 80|88.0|\n",
      "+-----+------+---+---+----+\n",
      "\n",
      "root\n",
      " |-- color: string (nullable = true)\n",
      " |-- fruit: string (nullable = true)\n",
      " |-- v1: string (nullable = true)\n",
      " |-- v2: string (nullable = true)\n",
      " |-- sum: double (nullable = true)\n",
      "\n"
     ]
    }
   ],
   "source": [
    "# Create a new column\n",
    "s_df = s_df.withColumn('sum', s_df.v1 + s_df.v2)\n",
    "s_df.show()\n",
    "s_df.printSchema()  # note that the sum is double despite the summands being str"
   ]
  },
  {
   "cell_type": "code",
   "execution_count": 7,
   "metadata": {},
   "outputs": [
    {
     "name": "stdout",
     "output_type": "stream",
     "text": [
      "+-----+------+---+---+----+\n",
      "|color| fruit| v1| v2| sum|\n",
      "+-----+------+---+---+----+\n",
      "|  red|banana|  7| 70|77.0|\n",
      "|  red| grape|  8| 80|88.0|\n",
      "+-----+------+---+---+----+\n",
      "\n"
     ]
    }
   ],
   "source": [
    "# Conditionally select rows\n",
    "s_df.filter(s_df.v1 > 6).show()"
   ]
  },
  {
   "cell_type": "code",
   "execution_count": 8,
   "metadata": {},
   "outputs": [
    {
     "name": "stdout",
     "output_type": "stream",
     "text": [
      "+------+------------------+\n",
      "| fruit|          avg(sum)|\n",
      "+------+------------------+\n",
      "| grape|              66.0|\n",
      "|banana|36.666666666666664|\n",
      "|carrot|51.333333333333336|\n",
      "+------+------------------+\n",
      "\n"
     ]
    }
   ],
   "source": [
    "# Average the numerical columns (one in this case; the new sum) across fruit types\n",
    "avg_df = s_df.groupby('fruit').avg()\n",
    "avg_df.show()"
   ]
  },
  {
   "cell_type": "code",
   "execution_count": 10,
   "metadata": {},
   "outputs": [
    {
     "name": "stderr",
     "output_type": "stream",
     "text": [
      "                                                                                \r"
     ]
    }
   ],
   "source": [
    "# Save this new result as parquet\n",
    "avg_df.write.parquet(f'{data_dir}/out.parquet', mode='overwrite')"
   ]
  }
 ],
 "metadata": {
  "kernelspec": {
   "display_name": "Python 3",
   "language": "python",
   "name": "python3"
  },
  "language_info": {
   "codemirror_mode": {
    "name": "ipython",
    "version": 3
   },
   "file_extension": ".py",
   "mimetype": "text/x-python",
   "name": "python",
   "nbconvert_exporter": "python",
   "pygments_lexer": "ipython3",
   "version": "3.12.2"
  }
 },
 "nbformat": 4,
 "nbformat_minor": 2
}
