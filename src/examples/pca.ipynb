{
 "cells": [
  {
   "cell_type": "code",
   "execution_count": 1,
   "metadata": {},
   "outputs": [],
   "source": [
    "# A simple example of clustering via PCA\n",
    "\n",
    "import pandas as pd\n",
    "from sklearn.decomposition import PCA\n",
    "from matplotlib import pyplot as plt"
   ]
  },
  {
   "cell_type": "code",
   "execution_count": 2,
   "metadata": {},
   "outputs": [
    {
     "data": {
      "text/html": [
       "<div>\n",
       "<style scoped>\n",
       "    .dataframe tbody tr th:only-of-type {\n",
       "        vertical-align: middle;\n",
       "    }\n",
       "\n",
       "    .dataframe tbody tr th {\n",
       "        vertical-align: top;\n",
       "    }\n",
       "\n",
       "    .dataframe thead th {\n",
       "        text-align: right;\n",
       "    }\n",
       "</style>\n",
       "<table border=\"1\" class=\"dataframe\">\n",
       "  <thead>\n",
       "    <tr style=\"text-align: right;\">\n",
       "      <th></th>\n",
       "      <th>var1</th>\n",
       "      <th>var2</th>\n",
       "      <th>var3</th>\n",
       "      <th>var4</th>\n",
       "    </tr>\n",
       "  </thead>\n",
       "  <tbody>\n",
       "    <tr>\n",
       "      <th>0</th>\n",
       "      <td>10</td>\n",
       "      <td>6.0</td>\n",
       "      <td>12.0</td>\n",
       "      <td>5</td>\n",
       "    </tr>\n",
       "    <tr>\n",
       "      <th>1</th>\n",
       "      <td>11</td>\n",
       "      <td>4.0</td>\n",
       "      <td>9.0</td>\n",
       "      <td>20</td>\n",
       "    </tr>\n",
       "    <tr>\n",
       "      <th>2</th>\n",
       "      <td>8</td>\n",
       "      <td>5.0</td>\n",
       "      <td>10.0</td>\n",
       "      <td>6</td>\n",
       "    </tr>\n",
       "    <tr>\n",
       "      <th>3</th>\n",
       "      <td>3</td>\n",
       "      <td>3.0</td>\n",
       "      <td>2.5</td>\n",
       "      <td>2</td>\n",
       "    </tr>\n",
       "    <tr>\n",
       "      <th>4</th>\n",
       "      <td>2</td>\n",
       "      <td>2.8</td>\n",
       "      <td>1.3</td>\n",
       "      <td>18</td>\n",
       "    </tr>\n",
       "    <tr>\n",
       "      <th>5</th>\n",
       "      <td>1</td>\n",
       "      <td>1.0</td>\n",
       "      <td>2.0</td>\n",
       "      <td>19</td>\n",
       "    </tr>\n",
       "  </tbody>\n",
       "</table>\n",
       "</div>"
      ],
      "text/plain": [
       "   var1  var2  var3  var4\n",
       "0    10   6.0  12.0     5\n",
       "1    11   4.0   9.0    20\n",
       "2     8   5.0  10.0     6\n",
       "3     3   3.0   2.5     2\n",
       "4     2   2.8   1.3    18\n",
       "5     1   1.0   2.0    19"
      ]
     },
     "execution_count": 2,
     "metadata": {},
     "output_type": "execute_result"
    }
   ],
   "source": [
    "# Create 6 samples in 4 variables\n",
    "df = pd.DataFrame({\n",
    "\t'var1': [10, 11, 8, 3, 2, 1],\n",
    "\t'var2': [6, 4, 5, 3, 2.8, 1],\n",
    "\t'var3': [12, 9, 10, 2.5, 1.3, 2],\n",
    "\t'var4': [5, 20, 6, 2, 18, 19]\n",
    "})\n",
    "df"
   ]
  },
  {
   "cell_type": "code",
   "execution_count": 5,
   "metadata": {},
   "outputs": [
    {
     "name": "stdout",
     "output_type": "stream",
     "text": [
      "explained_variance_ratio_ [0.66703075 0.32133158]\n",
      "  PC1 accounts for 66.7% of variation around PCs\n",
      "  PC2 accounts for 32.13% of variation around PCs\n",
      "\n",
      "singular_values_ [19.24121358 13.35476463]\n",
      "Singular values are related to eigenvalues - top k eigenvalues provide top k PCs\n",
      "\n",
      "         PC1       PC2\n",
      "0 -9.264351  3.944011\n",
      "1  5.351956  8.626537\n",
      "2 -7.093476  1.665237\n",
      "3 -6.799110 -8.213922\n",
      "4  8.311444 -2.963893\n",
      "5  9.493538 -3.057970\n"
     ]
    }
   ],
   "source": [
    "pca = PCA(n_components=2)  # components 3&4 have low propensity in the scree plot compared to 1&2\n",
    "r = pca.fit_transform(df)\n",
    "reduced_df = pd.DataFrame(r, columns=['PC1', 'PC2'])\n",
    "\n",
    "vars =  pca.explained_variance_ratio_\n",
    "print('explained_variance_ratio_', vars)\n",
    "print(f'  PC1 accounts for {round(vars[0]*100, 2)}% of variation around PCs')\n",
    "print(f'  PC2 accounts for {round(vars[1]*100, 2)}% of variation around PCs')\n",
    "\n",
    "# Singular values are related to eigenvalues - top k eigenvalues provide top k PCs\n",
    "print('\\nsingular_values_', pca.singular_values_)\n",
    "\n",
    "print('\\n',reduced_df)\n"
   ]
  },
  {
   "cell_type": "code",
   "execution_count": 4,
   "metadata": {},
   "outputs": [
    {
     "data": {
      "image/png": "[encoded data removed]",
      "text/plain": [
       "<Figure size 640x480 with 1 Axes>"
      ]
     },
     "metadata": {},
     "output_type": "display_data"
    }
   ],
   "source": [
    "xs = reduced_df['PC1']\n",
    "ys = reduced_df['PC2']\n",
    "plt.scatter(xs, ys)\n",
    "plt.axhline(0, color='black')\n",
    "plt.axvline(0, color='black')\n",
    "plt.xlabel('PC1')\n",
    "plt.ylabel('PC2')\n",
    "\n",
    "offset = 0.2\n",
    "for ind in range(len(xs)):\n",
    "\tplt.annotate(text=ind, xy=(xs[ind]+offset, ys[ind]+offset))\n",
    "plt.show()\n",
    "\n",
    "# k PC unit vectors point along the eigenvectors with the k-largest eigenvalues"
   ]
  },
  {
   "cell_type": "raw",
   "metadata": {},
   "source": [
    "We see here that there are at least 2 clusters, namely 0/2/3 and 1/4/5, divided by the dominant PC1.\n",
    "\n",
    "There are possibly as many as 4 clusters when splitting on the secondary component PC2, resulting in\n",
    "groups of 0/2, 3, 1, and 4/5.  Since PC1 is only twice as potent as PC2, this 4-cluster split seems\n",
    "reasonable."
   ]
  }
 ],
 "metadata": {
  "kernelspec": {
   "display_name": "Python 3",
   "language": "python",
   "name": "python3"
  },
  "language_info": {
   "codemirror_mode": {
    "name": "ipython",
    "version": 3
   },
   "file_extension": ".py",
   "mimetype": "text/x-python",
   "name": "python",
   "nbconvert_exporter": "python",
   "pygments_lexer": "ipython3",
   "version": "3.7.3"
  }
 },
 "nbformat": 4,
 "nbformat_minor": 2
}
