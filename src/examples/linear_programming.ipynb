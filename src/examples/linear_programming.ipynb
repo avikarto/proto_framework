{
 "cells": [
  {
   "cell_type": "markdown",
   "metadata": {},
   "source": [
    "A toy problem to illustrate methods in linear programming.\n",
    "\n",
    "Assume that a farmer has 110 acres of land.  He has decided to grow Wheat and barley on that land.\n",
    "The entire production of Wheat and Barley can be sold.  The farmer wants to know how to plant each\n",
    "crop in the 110 acres, given the costs, net profits and labor requirements below, assuming he can\n",
    "spend up to $10,000 on the initial planting and has 1,200 units of labor available for the season."
   ]
  },
  {
   "cell_type": "code",
   "execution_count": 1,
   "metadata": {},
   "outputs": [
    {
     "data": {
      "text/html": [
       "<div>\n",
       "<style scoped>\n",
       "    .dataframe tbody tr th:only-of-type {\n",
       "        vertical-align: middle;\n",
       "    }\n",
       "\n",
       "    .dataframe tbody tr th {\n",
       "        vertical-align: top;\n",
       "    }\n",
       "\n",
       "    .dataframe thead th {\n",
       "        text-align: right;\n",
       "    }\n",
       "</style>\n",
       "<table border=\"1\" class=\"dataframe\">\n",
       "  <thead>\n",
       "    <tr style=\"text-align: right;\">\n",
       "      <th></th>\n",
       "      <th>Cost per acre</th>\n",
       "      <th>Labor per acre</th>\n",
       "      <th>Net profit per acre</th>\n",
       "    </tr>\n",
       "    <tr>\n",
       "      <th>Crop</th>\n",
       "      <th></th>\n",
       "      <th></th>\n",
       "      <th></th>\n",
       "    </tr>\n",
       "  </thead>\n",
       "  <tbody>\n",
       "    <tr>\n",
       "      <th>Wheat</th>\n",
       "      <td>100</td>\n",
       "      <td>10</td>\n",
       "      <td>50</td>\n",
       "    </tr>\n",
       "    <tr>\n",
       "      <th>Barley</th>\n",
       "      <td>200</td>\n",
       "      <td>30</td>\n",
       "      <td>120</td>\n",
       "    </tr>\n",
       "  </tbody>\n",
       "</table>\n",
       "</div>"
      ],
      "text/plain": [
       "        Cost per acre  Labor per acre  Net profit per acre\n",
       "Crop                                                      \n",
       "Wheat             100              10                   50\n",
       "Barley            200              30                  120"
      ]
     },
     "execution_count": 1,
     "metadata": {},
     "output_type": "execute_result"
    }
   ],
   "source": [
    "import pandas as pd\n",
    "df = pd.DataFrame({\n",
    "\t'Crop': ['Wheat', 'Barley'],\n",
    "\t'Cost per acre': [100, 200],\n",
    "\t'Labor per acre': [10, 30],\n",
    "\t'Net profit per acre': [50, 120]\n",
    "}).set_index('Crop')\n",
    "df"
   ]
  },
  {
   "cell_type": "markdown",
   "metadata": {},
   "source": [
    "Let W be the number of wheat crops planted, B the number of barley crops, and P profit.\n",
    "\n",
    "Define the target function to maximize:\n",
    "P = 50*W + 120*B\n",
    "\n",
    "Define linear constraints on the problem:\n",
    "(1: area ) W + B <= 110\n",
    "(2: labor) 10*W + 30*B <= 1200\n",
    "(3: cost ) 100*W + 200*B <= 10000\n",
    "(4: bound) W >= 0; B >= 0"
   ]
  },
  {
   "cell_type": "code",
   "execution_count": 2,
   "metadata": {},
   "outputs": [],
   "source": [
    "'''\n",
    "We solve the problem with scipy, which minimizes the target function.  We can recast the\n",
    "maximization as \"minimize -50W-120B\"\n",
    "To encode this in scipy, create the coefficient vector.\n",
    "'''\n",
    "c = [-50, -120]"
   ]
  },
  {
   "cell_type": "code",
   "execution_count": 3,
   "metadata": {},
   "outputs": [],
   "source": [
    "'''\n",
    "The constraints can similary be encoded by casting them as <= inequalities and defining coefficient\n",
    "vector A_ub and constant vector b_ub:\n",
    "10*W + 30*B <= 1200\n",
    "100*W + 200*B <= 10000\n",
    "'''\n",
    "A_ub = [[10, 30], [100,200]]\n",
    "b_ub = [1200, 10000]"
   ]
  },
  {
   "cell_type": "code",
   "execution_count": 4,
   "metadata": {},
   "outputs": [],
   "source": [
    "'''\n",
    "Lastly, general variable bounds can be defined and encoded\n",
    "0 <= W <= 110\n",
    "0 <= B <= 110\n",
    "'''\n",
    "c0_bounds = (0,110)\n",
    "c1_bounds = (0,110)"
   ]
  },
  {
   "cell_type": "code",
   "execution_count": 5,
   "metadata": {},
   "outputs": [
    {
     "name": "stdout",
     "output_type": "stream",
     "text": [
      "Max profit is 5399.9999904942\n",
      "Maximized profit at 59.99999987443059 of Wheat and 19.99999997310558 of Barley\n"
     ]
    }
   ],
   "source": [
    "# Now, put this all into the call to scipy\n",
    "from scipy.optimize import linprog\n",
    "res = linprog(c, A_ub=A_ub, b_ub=b_ub, bounds=[c0_bounds, c1_bounds])\n",
    "\n",
    "# Extract the maximum profit as the negative of this minimized result:\n",
    "print(f'Max profit is {-res.fun}')\n",
    "\n",
    "# Extract the parameters for this result\n",
    "print(f'Maximized profit at {res.x[0]} of Wheat and {res.x[1]} of Barley')"
   ]
  }
 ],
 "metadata": {
  "kernelspec": {
   "display_name": "Python 3",
   "language": "python",
   "name": "python3"
  },
  "language_info": {
   "codemirror_mode": {
    "name": "ipython",
    "version": 3
   },
   "file_extension": ".py",
   "mimetype": "text/x-python",
   "name": "python",
   "nbconvert_exporter": "python",
   "pygments_lexer": "ipython3",
   "version": "3.7.3"
  }
 },
 "nbformat": 4,
 "nbformat_minor": 2
}
